{
 "cells": [
  {
   "attachments": {},
   "cell_type": "markdown",
   "metadata": {},
   "source": [
    "# Visualize Your Inference Output with Gradio Interface"
   ]
  },
  {
   "cell_type": "markdown",
   "metadata": {},
   "source": [
    "![Gradio example](./images/gradio_example.png)"
   ]
  },
  {
   "attachments": {},
   "cell_type": "markdown",
   "metadata": {},
   "source": [
    "To quickly evaluate how well the model performs, we provide a visualization tool using [Gradio](https://github.com/gradio-app/gradio), an open-source Python package that allows for the fast deployment of machine learning models with a GUI. Currently, we support the following tasks:\n",
    "\n",
    "* Segmentation task with `GradioSegmentationStrategy`\n",
    "* Detection task with `GradioDetectionStrategy`"
   ]
  },
  {
   "attachments": {},
   "cell_type": "markdown",
   "metadata": {},
   "source": [
    "## Prerequisite\n",
    "\n",
    "Please follow the instructions in [segmentation example](./seg_example.ipynb)."
   ]
  },
  {
   "attachments": {},
   "cell_type": "markdown",
   "metadata": {},
   "source": [
    "## Implementation\n",
    "\n",
    "Let's demonstrate Gradio Interface with [segmentation example](./seg_example.ipynb). To adopt Gradio Interface, we provide `GradioInferAPP` which integrates inference model inherited from `base_gradio_inference_model.py`. By reusing most of the code in [segmentation example](./seg_example.ipynb), we can initiate Gradio Interface seamlessly."
   ]
  },
  {
   "attachments": {},
   "cell_type": "markdown",
   "metadata": {},
   "source": [
    "### Setup imports"
   ]
  },
  {
   "cell_type": "code",
   "execution_count": null,
   "metadata": {},
   "outputs": [],
   "source": [
    "import os\n",
    "from typing import Any, List, Sequence, Tuple\n",
    "\n",
    "import numpy as np\n",
    "import SimpleITK as sitk\n",
    "from lungmask import LMInferer\n",
    "\n",
    "from flavor.serve.apps import GradioInferAPP\n",
    "from flavor.serve.inference.inference_models import GradioInferenceModel\n",
    "from flavor.serve.inference.strategies import GradioSegmentationStrategy"
   ]
  },
  {
   "attachments": {},
   "cell_type": "markdown",
   "metadata": {},
   "source": [
    "### Setup inference model for Gradio Interface"
   ]
  },
  {
   "cell_type": "code",
   "execution_count": null,
   "metadata": {},
   "outputs": [],
   "source": [
    "class SegmentationGradioInferenceModel(GradioInferenceModel):\n",
    "    def __init__(self):\n",
    "        super().__init__()\n",
    "\n",
    "    def define_inference_network(self):\n",
    "        return LMInferer(modelname=\"LTRCLobes\", fillmodel=\"R231\")\n",
    "\n",
    "    def set_categories(self):\n",
    "        categories = [\n",
    "            {\"name\": \"Background\", \"display\": False},\n",
    "            {\"name\": \"Left Upper Lobe\", \"display\": True},\n",
    "            {\"name\": \"Left Lower Lobe\", \"display\": True},\n",
    "            {\"name\": \"Right Upper Lobe\", \"display\": True},\n",
    "            {\"name\": \"Right Middle Lobe\", \"display\": True},\n",
    "            {\"name\": \"Right Lower Lobe\", \"display\": True},\n",
    "        ]\n",
    "        return categories\n",
    "\n",
    "    def set_regressions(self):\n",
    "        return None\n",
    "\n",
    "    def data_reader(\n",
    "        self, files: Sequence[str], **kwargs\n",
    "    ) -> Tuple[np.ndarray, List[str], Tuple[int]]:\n",
    "        def sort_images_by_z_axis(filenames):\n",
    "\n",
    "            sorted_reader_filename_pairs = []\n",
    "\n",
    "            for f in filenames:\n",
    "                dicom_reader = sitk.ImageFileReader()\n",
    "                dicom_reader.SetFileName(f)\n",
    "                dicom_reader.ReadImageInformation()\n",
    "\n",
    "                sorted_reader_filename_pairs.append((dicom_reader, f))\n",
    "\n",
    "            zs = [\n",
    "                float(r.GetMetaData(key=\"0020|0032\").split(\"\\\\\")[-1])\n",
    "                for r, _ in sorted_reader_filename_pairs\n",
    "            ]\n",
    "\n",
    "            sort_inds = np.argsort(zs)[::-1]\n",
    "            sorted_reader_filename_pairs = [sorted_reader_filename_pairs[s] for s in sort_inds]\n",
    "\n",
    "            return sorted_reader_filename_pairs\n",
    "\n",
    "        pairs = sort_images_by_z_axis(files)\n",
    "\n",
    "        readers, sorted_filenames = zip(*pairs)\n",
    "        sorted_filenames = list(sorted_filenames)\n",
    "\n",
    "        simages = [sitk.GetArrayFromImage(r.Execute()).squeeze() for r in readers]\n",
    "        volume = np.stack(simages)\n",
    "        volume = np.expand_dims(volume, axis=0)\n",
    "\n",
    "        return volume, sorted_filenames, volume.shape[1:]\n",
    "\n",
    "    def inference(self, x: np.ndarray) -> np.ndarray:\n",
    "        return self.network.apply(np.squeeze(x, axis=0))\n",
    "\n",
    "    def postprocess(self, out: Any, metadata: Any = None) -> Any:\n",
    "        # (1, h, w) -> (6, h, w)\n",
    "        out = [\n",
    "            np.expand_dims((out == i).astype(np.uint8), axis=0)\n",
    "            for i in range(6)  # or len(self.categories)\n",
    "        ]\n",
    "        out = np.concatenate(out, axis=0)\n",
    "        return out\n"
   ]
  },
  {
   "attachments": {},
   "cell_type": "markdown",
   "metadata": {},
   "source": [
    "### Initiate the service"
   ]
  },
  {
   "cell_type": "code",
   "execution_count": null,
   "metadata": {},
   "outputs": [],
   "source": [
    "app = GradioInferAPP(\n",
    "    infer_function=SegmentationGradioInferenceModel(),\n",
    "    output_strategy=GradioSegmentationStrategy,\n",
    ")\n",
    "\n",
    "app.run(port=int(os.getenv(\"PORT\", 9111)))"
   ]
  },
  {
   "attachments": {},
   "cell_type": "markdown",
   "metadata": {},
   "source": [
    "## Interact with Gradio interface"
   ]
  },
  {
   "attachments": {},
   "cell_type": "markdown",
   "metadata": {},
   "source": [
    "You won't need additional JSON file for `GradioInferAPP`.  Go http://localhost:9111/. You can input any images you want and play around with the Gradio GUI running your own inference model. "
   ]
  }
 ],
 "metadata": {
  "kernelspec": {
   "display_name": "flavor-ObFXzz_m-py3.8",
   "language": "python",
   "name": "python3"
  },
  "language_info": {
   "codemirror_mode": {
    "name": "ipython",
    "version": 3
   },
   "file_extension": ".py",
   "mimetype": "text/x-python",
   "name": "python",
   "nbconvert_exporter": "python",
   "pygments_lexer": "ipython3",
   "version": "3.9.5"
  },
  "orig_nbformat": 4
 },
 "nbformat": 4,
 "nbformat_minor": 2
}
